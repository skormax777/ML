{
 "cells": [
  {
   "cell_type": "code",
   "execution_count": 1,
   "metadata": {},
   "outputs": [],
   "source": [
    "import numpy as np\n",
    "import time\n",
    "import random"
   ]
  },
  {
   "cell_type": "code",
   "execution_count": 2,
   "metadata": {},
   "outputs": [],
   "source": [
    "n = 100"
   ]
  },
  {
   "cell_type": "code",
   "execution_count": 3,
   "metadata": {},
   "outputs": [],
   "source": [
    "A = np.random.randint(10, size=(n, n))\n",
    "B = np.random.randint(10, size=(n, n))"
   ]
  },
  {
   "cell_type": "code",
   "execution_count": 4,
   "metadata": {},
   "outputs": [
    {
     "name": "stdout",
     "output_type": "stream",
     "text": [
      "np: \n",
      "0.0009834766387939453\n"
     ]
    }
   ],
   "source": [
    "#NP ALG\n",
    "Stime = time.time()\n",
    "C = np.dot(A, B)\n",
    "Ftime = time.time()\n",
    "print(\"np: \")\n",
    "t1=(Ftime - Stime)\n",
    "print(t1)"
   ]
  },
  {
   "cell_type": "code",
   "execution_count": 5,
   "metadata": {},
   "outputs": [
    {
     "name": "stdout",
     "output_type": "stream",
     "text": [
      "own:\n",
      "2.138493776321411\n"
     ]
    }
   ],
   "source": [
    "#OWN ALG\n",
    "Stime = time.time()\n",
    "for i in range(n):\n",
    "    for j in range(n):\n",
    "        C[i][j] = 0\n",
    "        for z in range(n):\n",
    "            C[i][j] += A[i][z] * B[z][j]\n",
    "Ftime = time.time()\n",
    "print(\"own:\")\n",
    "t2= (Ftime - Stime)\n",
    "print (t2)"
   ]
  },
  {
   "cell_type": "code",
   "execution_count": 6,
   "metadata": {},
   "outputs": [
    {
     "name": "stdout",
     "output_type": "stream",
     "text": [
      "Difference (np - own): \n"
     ]
    },
    {
     "data": {
      "text/plain": [
       "2.137510299682617"
      ]
     },
     "execution_count": 6,
     "metadata": {},
     "output_type": "execute_result"
    }
   ],
   "source": [
    "#Difference\n",
    "print(\"Difference (np - own): \")\n",
    "t2-t1"
   ]
  },
  {
   "cell_type": "code",
   "execution_count": null,
   "metadata": {},
   "outputs": [],
   "source": []
  }
 ],
 "metadata": {
  "kernelspec": {
   "display_name": "Python 3",
   "language": "python",
   "name": "python3"
  },
  "language_info": {
   "codemirror_mode": {
    "name": "ipython",
    "version": 3
   },
   "file_extension": ".py",
   "mimetype": "text/x-python",
   "name": "python",
   "nbconvert_exporter": "python",
   "pygments_lexer": "ipython3",
   "version": "3.7.4"
  }
 },
 "nbformat": 4,
 "nbformat_minor": 4
}
