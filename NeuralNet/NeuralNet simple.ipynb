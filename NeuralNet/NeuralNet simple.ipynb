{
 "cells": [
  {
   "cell_type": "markdown",
   "metadata": {},
   "source": [
    "В цій практичній роботі ми спробуємо реалізувати нейронну мережу з двох шарів (прихований і вихідний). Запропонований підхід стане заготовкою для реалізації наступних оптимізацій: MBGD, ADAM та регуляризації. \n",
    "\n",
    "Сьогодні ж вам пропонується додати до цього класу підтримку довільної кількості шарів та нейронів в них (наприклад, передавати їх параметром в конструктор, як це робиться в MLPClassifier за допомогою hidden_layer_sizes). Також потрібно передбачити можливість ранньої зупинки ітераційного процесу, якщо значення штрафної функції не покращуватиметься протягом певної кількості ітерацій. Наприклад, якщо протягом $k$ ітерацій штрафна функція за модулем не стане меншою, ніж на поточному кроці."
   ]
  },
  {
   "cell_type": "markdown",
   "metadata": {},
   "source": [
    "# NeuralNet First Part\n"
   ]
  },
  {
   "cell_type": "code",
   "execution_count": 1,
   "metadata": {},
   "outputs": [],
   "source": [
    "import numpy as np\n",
    "import pandas as pd\n",
    "from sklearn.model_selection import train_test_split\n",
    "from mpl_toolkits.mplot3d import Axes3D\n",
    "import matplotlib.pyplot as plt\n",
    "from matplotlib.colors import ListedColormap\n",
    "cm_bright = ListedColormap(['#FF0000', '#0000FF'])\n",
    "%matplotlib inline\n",
    "from sklearn.metrics import accuracy_score\n",
    "import sklearn.linear_model"
   ]
  },
  {
   "cell_type": "code",
   "execution_count": 2,
   "metadata": {},
   "outputs": [],
   "source": [
    "def plot_surface(cls, x_1, x_2, ax=None, threshold=0.5, contourf=False):\n",
    "    xx1, xx2 = np.meshgrid(np.linspace(x_1.min(), x_1.max(), 100), \n",
    "                           np.linspace(x_2.min(), x_2.max(), 100))\n",
    "\n",
    "    X_pred = np.c_[xx1.ravel(), xx2.ravel()]\n",
    "    pred = cls.predict_proba(X_pred)[:, 0]\n",
    "    Z = pred.reshape((100, 100))\n",
    "    if ax is None:\n",
    "        ax = plt.gca()\n",
    "    ax.contour(xx1, xx2, Z, levels=[threshold], colors='black')\n",
    "    ax.set_xlim((x_1.min(), x_1.max()))\n",
    "    ax.set_ylim((x_2.min(), x_2.max()))"
   ]
  },
  {
   "cell_type": "code",
   "execution_count": 3,
   "metadata": {},
   "outputs": [],
   "source": [
    "def plot_data(X, y):\n",
    "    ax = plt.gca()\n",
    "    ax.scatter(X[:,0], X[:,1], c=(y == 1), cmap=cm_bright)"
   ]
  },
  {
   "cell_type": "code",
   "execution_count": 4,
   "metadata": {},
   "outputs": [],
   "source": [
    "class NeuralNet:\n",
    "    \"\"\"\n",
    "    NN for binary classification\n",
    "    Attributes:\n",
    "    ...\n",
    "    \"\"\"\n",
    "#__________________________________________________________________________________\n",
    "    def __init__(self, hidden_layer_sizes, normalize = True, learning_rate = 0.01, num_iter = 30000, precision = None):\n",
    "        self.learning_rate = learning_rate\n",
    "        self.num_iter = num_iter\n",
    "        self.normalize = normalize\n",
    "        self.hidden_layer_sizes = hidden_layer_sizes\n",
    "        self.precision = precision\n",
    "    \n",
    "    \n",
    "    def __normalize(self, X, mean = None, std = None):\n",
    "        n = X.shape[0]\n",
    "        m = mean\n",
    "        if m is None:\n",
    "            m = np.mean(X, axis=1).reshape((n, 1))\n",
    "        s = std\n",
    "        if s is None:\n",
    "            s = np.std(X, axis=1).reshape((n, 1))\n",
    "        X_new = (X - m) / s**2\n",
    "        return X_new, m, s\n",
    "\n",
    "    \n",
    "    def __sigmoid(self, Z):\n",
    "        \"\"\"\n",
    "        В наступних практичних потрібно буде додати підтримку й інших активаційних функцій - це один з гіперпараметрів. \n",
    "        Їх можна вибирати для всіх шарів одночасно або мати різні активаційні функції на кожному з них.\n",
    "        \"\"\"\n",
    "        return 1 / (1 + np.exp(-Z))\n",
    "\n",
    "    \n",
    "    def __initialize_parameters(self):\n",
    "        hidden_layer_sizes = self.hidden_layer_sizes\n",
    "        parameters = {}\n",
    "        for l in range(1, len(hidden_layer_sizes)):\n",
    "            parameters['W' + str(l)] = np.random.randn(hidden_layer_sizes[l], hidden_layer_sizes[l-1]) * 0.01\n",
    "            parameters['b' + str(l)] = np.zeros((hidden_layer_sizes[l], 1))\n",
    "        \n",
    "        self.parameters = parameters\n",
    "#__________________________________________________________________________________\n",
    "             \n",
    "    def __forward_linear_activation(self, A_prev, W, b):   \n",
    "        Z = np.dot(W, A_prev) + b\n",
    "        linear_cache = (A_prev, W, b)\n",
    "        \n",
    "        A = self.__sigmoid(Z)\n",
    "        activation_cache = Z\n",
    "        \n",
    "        cache = (linear_cache, activation_cache)\n",
    "        return A, cache\n",
    "    \n",
    "    \n",
    "    def __multilayer_forward(self, X):       \n",
    "        parameters = self.parameters\n",
    "        caches = []\n",
    "        A = X\n",
    "        L = len(parameters) // 2\n",
    "\n",
    "        for l in range(1, L):\n",
    "            A_prev = A \n",
    "            A, cache = self.__forward_linear_activation(A_prev, parameters[\"W\"+str(l)], parameters[\"b\"+str(l)])\n",
    "            caches.append(cache)\n",
    "            \n",
    "        AL, cache = self.__forward_linear_activation(A, parameters[\"W\"+str(L)], parameters[\"b\"+str(L)])\n",
    "        caches.append(cache)\n",
    "        \n",
    "        assert(AL.shape == (1,X.shape[1]))\n",
    "        return AL, caches\n",
    "    \n",
    "#__________________________________________________________________________________\n",
    "    def __backward_linear_activation(self, dA, cache):\n",
    "        \n",
    "        linear_cache, activation_cache = cache\n",
    "        \n",
    "        Z = activation_cache\n",
    "        s = 1/(1+np.exp(-Z))\n",
    "        dZ = dA * s * (1-s)\n",
    "        \n",
    "        A_prev, W, b = linear_cache\n",
    "        m = A_prev.shape[1]\n",
    "        dW = 1 / m * np.dot(dZ, A_prev.T)\n",
    "        db = 1 / m * np.sum(dZ, axis=1, keepdims=True)\n",
    "        dA_prev = np.dot(W.T, dZ)\n",
    "        \n",
    "        return dA_prev, dW, db\n",
    "\n",
    "\n",
    "    def __multilayer_backward(self, X, Y, caches):\n",
    "        grads = {}\n",
    "        AL = X\n",
    "        L = len(caches)\n",
    "        m = AL.shape[1]\n",
    "        Y = Y.reshape(AL.shape)\n",
    "\n",
    "        dAL = -(np.divide(Y, AL) - np.divide(1 - Y, 1 - AL))\n",
    "        \n",
    "        current_cache = caches[L-1]\n",
    "        grads[\"dA\" + str(L-1)], grads[\"dW\" + str(L)], grads[\"db\" + str(L)] = self.__backward_linear_activation(dAL, current_cache)\n",
    "        \n",
    "        for l in reversed(range(L-1)):\n",
    "            current_cache = caches[l]\n",
    "            dA_prev_temp, dW_temp, db_temp = self.__backward_linear_activation(grads[\"dA\" + str(l + 1)], current_cache)\n",
    "            grads[\"dA\" + str(l)] = dA_prev_temp\n",
    "            grads[\"dW\" + str(l + 1)] = dW_temp\n",
    "            grads[\"db\" + str(l + 1)] = db_temp\n",
    "            \n",
    "        return grads\n",
    "    \n",
    "#__________________________________________________________________________________\n",
    "      \n",
    "    def compute_cost(self, A, Y):\n",
    "        m = Y.shape[1]\n",
    "        res = Y * np.log(A) + (1 - Y) * np.log(1 - A)\n",
    "        J = -(1 / m) * np.sum(res)\n",
    "        return J\n",
    "   \n",
    "\n",
    "    def __update_parameters(self, grads):\n",
    "        parameters = self.parameters;\n",
    "        learning_rate = self.learning_rate\n",
    "        L = len(parameters) // 2\n",
    "\n",
    "        for l in range(L):\n",
    "            parameters[\"W\" + str(l+1)] = parameters[\"W\" + str(l+1)] - learning_rate * grads[\"dW\" + str(l+1)]\n",
    "            parameters[\"b\" + str(l+1)] = parameters[\"b\" + str(l+1)] - learning_rate * grads[\"db\" + str(l+1)]\n",
    "            \n",
    "        self.parameters = parameters;\n",
    "        \n",
    "    \n",
    "    def fit(self, X_vert, Y_vert, print_cost = True):\n",
    "        \n",
    "        X, Y = X_vert.T, Y_vert.T\n",
    "        \n",
    "        if self.normalize:\n",
    "            X, self.__mean, self.__std = self.__normalize(X)\n",
    "        \n",
    "        costs = []\n",
    "        \n",
    "        self.__initialize_parameters()\n",
    "\n",
    "        for i in range(0, self.num_iter):\n",
    "\n",
    "            AL, caches = self.__multilayer_forward(X)\n",
    "            \n",
    "            cost = self.compute_cost(AL, Y)\n",
    "            \n",
    "            grads = self.__multilayer_backward(AL, Y, caches)\n",
    "            \n",
    "            self.__update_parameters(grads)\n",
    "            \n",
    "            if print_cost and i % 100 == 0:\n",
    "                print (\"Cost after iteration %i: %f\" %(i, cost))\n",
    "            if print_cost and i % 100 == 0:\n",
    "                costs.append(cost)\n",
    "                \n",
    "                if len(costs) > 1 and self.precision != None and np.abs(costs[-2] - costs[-1]) < self.precision:\n",
    "                    print('Stopping gradient descent ...')\n",
    "                    break\n",
    "\n",
    "        if print_cost:\n",
    "                plt.plot(costs)\n",
    "                plt.ylabel(\"Cost\")\n",
    "                plt.xlabel(\"Iteration, *100\")\n",
    "                plt.show()\n",
    "#__________________________________________________________________________________\n",
    "\n",
    "    def predict_proba(self, X_vert):\n",
    "        X = X_vert.T\n",
    "        if self.normalize:\n",
    "            X, _, _ = self.__normalize(X, self.__mean, self.__std)\n",
    "        \n",
    "        probs = self.__multilayer_forward(X)[0]\n",
    "        return np.column_stack((probs.T, 1 - probs.T))\n",
    "    \n",
    "    \n",
    "    def predict(self, X_vert):\n",
    "        positive_probs = self.predict_proba(X_vert)[:, 0]\n",
    "        return (positive_probs >= 0.5).astype(int)"
   ]
  },
  {
   "cell_type": "markdown",
   "metadata": {},
   "source": [
    "Спочатку спробуйте цей клас на одній задачі, а потім на іншій."
   ]
  },
  {
   "cell_type": "code",
   "execution_count": 5,
   "metadata": {},
   "outputs": [],
   "source": [
    "#data_columns = [\"exam1\", \"exam2\"]\n",
    "#target_column = \"submitted\"\n",
    "#df = pd.read_csv(\"sats.csv\")\n",
    "#X, Y = df[data_columns].values, df[target_column].reshape((df.shape[0], 1))\n",
    "#print('Training set: X={}, y={}'.format(X.shape, Y.shape))"
   ]
  },
  {
   "cell_type": "code",
   "execution_count": 6,
   "metadata": {},
   "outputs": [
    {
     "name": "stdout",
     "output_type": "stream",
     "text": [
      "Training set: X=(118, 2), y=(118,)\n"
     ]
    }
   ],
   "source": [
    "data_columns = [\"test1\", \"test2\"]\n",
    "target_column = \"passed\"\n",
    "df = pd.read_csv(\"tests.csv\")\n",
    "X, Y = df[data_columns].values, df[target_column]\n",
    "print('Training set: X={}, y={}'.format(X.shape, Y.shape))"
   ]
  },
  {
   "cell_type": "code",
   "execution_count": 7,
   "metadata": {},
   "outputs": [
    {
     "data": {
      "image/png": "[encoded data removed]",
      "text/plain": [
       "<Figure size 432x288 with 1 Axes>"
      ]
     },
     "metadata": {
      "needs_background": "light"
     },
     "output_type": "display_data"
    }
   ],
   "source": [
    "plot_data(X, Y)"
   ]
  },
  {
   "cell_type": "code",
   "execution_count": 8,
   "metadata": {},
   "outputs": [],
   "source": [
    "#cls = NeuralNet(normalize = True, learning_rate = 0.5, num_iter = 4000)\n",
    "\n",
    "cls = NeuralNet(hidden_layer_sizes = [2,2,1], normalize = True, learning_rate = 0.5, num_iter = 14000) "
   ]
  },
  {
   "cell_type": "code",
   "execution_count": 9,
   "metadata": {},
   "outputs": [],
   "source": [
    "X_train, X_test, Y_train, Y_test = train_test_split(X, Y.values.reshape((Y.shape[0], 1)), test_size = 0.2, random_state=10)"
   ]
  },
  {
   "cell_type": "code",
   "execution_count": 10,
   "metadata": {},
   "outputs": [
    {
     "name": "stdout",
     "output_type": "stream",
     "text": [
      "Cost after iteration 0: 0.693267\n",
      "Cost after iteration 100: 0.689485\n",
      "Cost after iteration 200: 0.689406\n",
      "Cost after iteration 300: 0.689243\n",
      "Cost after iteration 400: 0.688952\n",
      "Cost after iteration 500: 0.688544\n",
      "Cost after iteration 600: 0.687983\n",
      "Cost after iteration 700: 0.686932\n",
      "Cost after iteration 800: 0.684534\n",
      "Cost after iteration 900: 0.679791\n",
      "Cost after iteration 1000: 0.671923\n",
      "Cost after iteration 1100: 0.657319\n",
      "Cost after iteration 1200: 0.631891\n",
      "Cost after iteration 1300: 0.605818\n",
      "Cost after iteration 1400: 0.588235\n",
      "Cost after iteration 1500: 0.577753\n",
      "Cost after iteration 1600: 0.571387\n",
      "Cost after iteration 1700: 0.567240\n",
      "Cost after iteration 1800: 0.564326\n",
      "Cost after iteration 1900: 0.562148\n",
      "Cost after iteration 2000: 0.560440\n",
      "Cost after iteration 2100: 0.559052\n",
      "Cost after iteration 2200: 0.557891\n",
      "Cost after iteration 2300: 0.556899\n",
      "Cost after iteration 2400: 0.556035\n",
      "Cost after iteration 2500: 0.555270\n",
      "Cost after iteration 2600: 0.554584\n",
      "Cost after iteration 2700: 0.553965\n",
      "Cost after iteration 2800: 0.553399\n",
      "Cost after iteration 2900: 0.552881\n",
      "Cost after iteration 3000: 0.552404\n",
      "Cost after iteration 3100: 0.551964\n",
      "Cost after iteration 3200: 0.551556\n",
      "Cost after iteration 3300: 0.551177\n",
      "Cost after iteration 3400: 0.550826\n",
      "Cost after iteration 3500: 0.550498\n",
      "Cost after iteration 3600: 0.550193\n",
      "Cost after iteration 3700: 0.549909\n",
      "Cost after iteration 3800: 0.549643\n",
      "Cost after iteration 3900: 0.549394\n",
      "Cost after iteration 4000: 0.549161\n",
      "Cost after iteration 4100: 0.548942\n",
      "Cost after iteration 4200: 0.548737\n",
      "Cost after iteration 4300: 0.548544\n",
      "Cost after iteration 4400: 0.548362\n",
      "Cost after iteration 4500: 0.548191\n",
      "Cost after iteration 4600: 0.548029\n",
      "Cost after iteration 4700: 0.547876\n",
      "Cost after iteration 4800: 0.547730\n",
      "Cost after iteration 4900: 0.547593\n",
      "Cost after iteration 5000: 0.547462\n",
      "Cost after iteration 5100: 0.547338\n",
      "Cost after iteration 5200: 0.547219\n",
      "Cost after iteration 5300: 0.547106\n",
      "Cost after iteration 5400: 0.546998\n",
      "Cost after iteration 5500: 0.546895\n",
      "Cost after iteration 5600: 0.546796\n",
      "Cost after iteration 5700: 0.546700\n",
      "Cost after iteration 5800: 0.546609\n",
      "Cost after iteration 5900: 0.546521\n",
      "Cost after iteration 6000: 0.546435\n",
      "Cost after iteration 6100: 0.546353\n",
      "Cost after iteration 6200: 0.546274\n",
      "Cost after iteration 6300: 0.546196\n",
      "Cost after iteration 6400: 0.546121\n",
      "Cost after iteration 6500: 0.546048\n",
      "Cost after iteration 6600: 0.545977\n",
      "Cost after iteration 6700: 0.545908\n",
      "Cost after iteration 6800: 0.545840\n",
      "Cost after iteration 6900: 0.545773\n",
      "Cost after iteration 7000: 0.545708\n",
      "Cost after iteration 7100: 0.545644\n",
      "Cost after iteration 7200: 0.545581\n",
      "Cost after iteration 7300: 0.545519\n",
      "Cost after iteration 7400: 0.545457\n",
      "Cost after iteration 7500: 0.545397\n",
      "Cost after iteration 7600: 0.545336\n",
      "Cost after iteration 7700: 0.545276\n",
      "Cost after iteration 7800: 0.545217\n",
      "Cost after iteration 7900: 0.545158\n",
      "Cost after iteration 8000: 0.545099\n",
      "Cost after iteration 8100: 0.545039\n",
      "Cost after iteration 8200: 0.544980\n",
      "Cost after iteration 8300: 0.544921\n",
      "Cost after iteration 8400: 0.544861\n",
      "Cost after iteration 8500: 0.544801\n",
      "Cost after iteration 8600: 0.544740\n",
      "Cost after iteration 8700: 0.544678\n",
      "Cost after iteration 8800: 0.544616\n",
      "Cost after iteration 8900: 0.544553\n",
      "Cost after iteration 9000: 0.544489\n",
      "Cost after iteration 9100: 0.544423\n",
      "Cost after iteration 9200: 0.544356\n",
      "Cost after iteration 9300: 0.544288\n",
      "Cost after iteration 9400: 0.544217\n",
      "Cost after iteration 9500: 0.544145\n",
      "Cost after iteration 9600: 0.544070\n",
      "Cost after iteration 9700: 0.543993\n",
      "Cost after iteration 9800: 0.543912\n",
      "Cost after iteration 9900: 0.543829\n",
      "Cost after iteration 10000: 0.543742\n",
      "Cost after iteration 10100: 0.543651\n",
      "Cost after iteration 10200: 0.543555\n",
      "Cost after iteration 10300: 0.543454\n",
      "Cost after iteration 10400: 0.543348\n",
      "Cost after iteration 10500: 0.543236\n",
      "Cost after iteration 10600: 0.543118\n",
      "Cost after iteration 10700: 0.542993\n",
      "Cost after iteration 10800: 0.542862\n",
      "Cost after iteration 10900: 0.542723\n",
      "Cost after iteration 11000: 0.542577\n",
      "Cost after iteration 11100: 0.542425\n",
      "Cost after iteration 11200: 0.542266\n",
      "Cost after iteration 11300: 0.542102\n",
      "Cost after iteration 11400: 0.541934\n",
      "Cost after iteration 11500: 0.541761\n",
      "Cost after iteration 11600: 0.541586\n",
      "Cost after iteration 11700: 0.541408\n",
      "Cost after iteration 11800: 0.541229\n",
      "Cost after iteration 11900: 0.541050\n",
      "Cost after iteration 12000: 0.540871\n",
      "Cost after iteration 12100: 0.540692\n",
      "Cost after iteration 12200: 0.540515\n",
      "Cost after iteration 12300: 0.540340\n",
      "Cost after iteration 12400: 0.540167\n",
      "Cost after iteration 12500: 0.539997\n",
      "Cost after iteration 12600: 0.539829\n",
      "Cost after iteration 12700: 0.539664\n",
      "Cost after iteration 12800: 0.539502\n",
      "Cost after iteration 12900: 0.539344\n",
      "Cost after iteration 13000: 0.539188\n",
      "Cost after iteration 13100: 0.539035\n",
      "Cost after iteration 13200: 0.538886\n",
      "Cost after iteration 13300: 0.538740\n",
      "Cost after iteration 13400: 0.538597\n",
      "Cost after iteration 13500: 0.538457\n",
      "Cost after iteration 13600: 0.538320\n",
      "Cost after iteration 13700: 0.538187\n",
      "Cost after iteration 13800: 0.538056\n",
      "Cost after iteration 13900: 0.537928\n"
     ]
    },
    {
     "data": {
      "image/png": "[encoded data removed]",
      "text/plain": [
       "<Figure size 432x288 with 1 Axes>"
      ]
     },
     "metadata": {
      "needs_background": "light"
     },
     "output_type": "display_data"
    }
   ],
   "source": [
    "cls.fit(X_train, Y_train)"
   ]
  },
  {
   "cell_type": "code",
   "execution_count": 11,
   "metadata": {},
   "outputs": [
    {
     "name": "stdout",
     "output_type": "stream",
     "text": [
      "{'W1': array([[-2.10851028, -2.33076071],\n",
      "       [-1.56692836, -3.01970184]]), 'b1': array([[-8.74875955],\n",
      "       [ 8.9137241 ]]), 'W2': array([[-7.2069011 ,  6.31192721]]), 'b2': array([[-5.32613845]])}\n"
     ]
    }
   ],
   "source": [
    "print(cls.parameters)"
   ]
  },
  {
   "cell_type": "code",
   "execution_count": 12,
   "metadata": {},
   "outputs": [
    {
     "data": {
      "text/plain": [
       "array([[0.72496829, 0.27503171],\n",
       "       [0.62579252, 0.37420748],\n",
       "       [0.62185742, 0.37814258],\n",
       "       [0.22274364, 0.77725636],\n",
       "       [0.02642557, 0.97357443],\n",
       "       [0.68978443, 0.31021557],\n",
       "       [0.0127166 , 0.9872834 ],\n",
       "       [0.72803224, 0.27196776],\n",
       "       [0.72758362, 0.27241638],\n",
       "       [0.70885135, 0.29114865],\n",
       "       [0.7240301 , 0.2759699 ],\n",
       "       [0.26558373, 0.73441627],\n",
       "       [0.25091754, 0.74908246],\n",
       "       [0.17179556, 0.82820444],\n",
       "       [0.66036649, 0.33963351],\n",
       "       [0.72162959, 0.27837041],\n",
       "       [0.70514622, 0.29485378],\n",
       "       [0.72814302, 0.27185698],\n",
       "       [0.67310212, 0.32689788],\n",
       "       [0.59735134, 0.40264866],\n",
       "       [0.72350213, 0.27649787],\n",
       "       [0.6846985 , 0.3153015 ],\n",
       "       [0.7003229 , 0.2996771 ],\n",
       "       [0.08545802, 0.91454198],\n",
       "       [0.72618687, 0.27381313],\n",
       "       [0.67506515, 0.32493485],\n",
       "       [0.1993118 , 0.8006882 ],\n",
       "       [0.67970629, 0.32029371],\n",
       "       [0.64649531, 0.35350469],\n",
       "       [0.71944878, 0.28055122],\n",
       "       [0.7004176 , 0.2995824 ],\n",
       "       [0.71953781, 0.28046219],\n",
       "       [0.42174106, 0.57825894],\n",
       "       [0.71612801, 0.28387199],\n",
       "       [0.0063372 , 0.9936628 ],\n",
       "       [0.72455459, 0.27544541],\n",
       "       [0.39731682, 0.60268318],\n",
       "       [0.72775364, 0.27224636],\n",
       "       [0.72678329, 0.27321671],\n",
       "       [0.02301004, 0.97698996],\n",
       "       [0.04245827, 0.95754173],\n",
       "       [0.55299975, 0.44700025],\n",
       "       [0.01269538, 0.98730462],\n",
       "       [0.72645611, 0.27354389],\n",
       "       [0.20492533, 0.79507467],\n",
       "       [0.7273001 , 0.2726999 ],\n",
       "       [0.03239248, 0.96760752],\n",
       "       [0.01268912, 0.98731088],\n",
       "       [0.05247068, 0.94752932],\n",
       "       [0.55893055, 0.44106945],\n",
       "       [0.59400697, 0.40599303],\n",
       "       [0.72817346, 0.27182654],\n",
       "       [0.72553232, 0.27446768],\n",
       "       [0.0063953 , 0.9936047 ],\n",
       "       [0.39117456, 0.60882544],\n",
       "       [0.71049267, 0.28950733],\n",
       "       [0.00379601, 0.99620399],\n",
       "       [0.5789297 , 0.4210703 ],\n",
       "       [0.71475231, 0.28524769],\n",
       "       [0.72709259, 0.27290741],\n",
       "       [0.7266077 , 0.2733923 ],\n",
       "       [0.70621019, 0.29378981],\n",
       "       [0.02933125, 0.97066875],\n",
       "       [0.45086609, 0.54913391],\n",
       "       [0.71244225, 0.28755775],\n",
       "       [0.66178064, 0.33821936],\n",
       "       [0.00418952, 0.99581048],\n",
       "       [0.25595439, 0.74404561],\n",
       "       [0.72475937, 0.27524063],\n",
       "       [0.34793613, 0.65206387],\n",
       "       [0.71990765, 0.28009235],\n",
       "       [0.55769763, 0.44230237],\n",
       "       [0.72808906, 0.27191094],\n",
       "       [0.72803426, 0.27196574],\n",
       "       [0.67548339, 0.32451661],\n",
       "       [0.72757056, 0.27242944],\n",
       "       [0.72802007, 0.27197993],\n",
       "       [0.71106752, 0.28893248],\n",
       "       [0.7277283 , 0.2722717 ],\n",
       "       [0.63193234, 0.36806766],\n",
       "       [0.03714827, 0.96285173],\n",
       "       [0.7250028 , 0.2749972 ],\n",
       "       [0.72590425, 0.27409575],\n",
       "       [0.66563973, 0.33436027],\n",
       "       [0.49869592, 0.50130408],\n",
       "       [0.72412567, 0.27587433],\n",
       "       [0.32155997, 0.67844003],\n",
       "       [0.66610729, 0.33389271],\n",
       "       [0.7268878 , 0.2731122 ],\n",
       "       [0.67423966, 0.32576034],\n",
       "       [0.29789971, 0.70210029],\n",
       "       [0.71423709, 0.28576291],\n",
       "       [0.72726162, 0.27273838],\n",
       "       [0.72011319, 0.27988681],\n",
       "       [0.19660672, 0.80339328],\n",
       "       [0.2128632 , 0.7871368 ],\n",
       "       [0.7132006 , 0.2867994 ],\n",
       "       [0.04083554, 0.95916446],\n",
       "       [0.64801207, 0.35198793],\n",
       "       [0.58211847, 0.41788153],\n",
       "       [0.70661849, 0.29338151],\n",
       "       [0.72787824, 0.27212176],\n",
       "       [0.59439257, 0.40560743],\n",
       "       [0.03527692, 0.96472308],\n",
       "       [0.70617134, 0.29382866],\n",
       "       [0.717639  , 0.282361  ],\n",
       "       [0.7259879 , 0.2740121 ],\n",
       "       [0.56063603, 0.43936397],\n",
       "       [0.72257544, 0.27742456],\n",
       "       [0.70102132, 0.29897868],\n",
       "       [0.72813051, 0.27186949],\n",
       "       [0.72558024, 0.27441976],\n",
       "       [0.7265921 , 0.2734079 ],\n",
       "       [0.72740635, 0.27259365],\n",
       "       [0.43315733, 0.56684267],\n",
       "       [0.71392906, 0.28607094],\n",
       "       [0.16555384, 0.83444616],\n",
       "       [0.71978641, 0.28021359]])"
      ]
     },
     "execution_count": 12,
     "metadata": {},
     "output_type": "execute_result"
    }
   ],
   "source": [
    "Y_prob = cls.predict_proba(X)\n",
    "Y_prob"
   ]
  },
  {
   "cell_type": "code",
   "execution_count": 13,
   "metadata": {},
   "outputs": [
    {
     "data": {
      "text/plain": [
       "array([1, 1, 1, 0, 0, 1, 0, 1, 1, 1, 1, 0, 0, 0, 1, 1, 1, 1, 1, 1, 1, 1,\n",
       "       1, 0, 1, 1, 0, 1, 1, 1, 1, 1, 0, 1, 0, 1, 0, 1, 1, 0, 0, 1, 0, 1,\n",
       "       0, 1, 0, 0, 0, 1, 1, 1, 1, 0, 0, 1, 0, 1, 1, 1, 1, 1, 0, 0, 1, 1,\n",
       "       0, 0, 1, 0, 1, 1, 1, 1, 1, 1, 1, 1, 1, 1, 0, 1, 1, 1, 0, 1, 0, 1,\n",
       "       1, 1, 0, 1, 1, 1, 0, 0, 1, 0, 1, 1, 1, 1, 1, 0, 1, 1, 1, 1, 1, 1,\n",
       "       1, 1, 1, 1, 0, 1, 0, 1])"
      ]
     },
     "execution_count": 13,
     "metadata": {},
     "output_type": "execute_result"
    }
   ],
   "source": [
    "Y_hat = cls.predict(X)\n",
    "Y_hat"
   ]
  },
  {
   "cell_type": "code",
   "execution_count": 14,
   "metadata": {},
   "outputs": [
    {
     "data": {
      "text/plain": [
       "0.711864406779661"
      ]
     },
     "execution_count": 14,
     "metadata": {},
     "output_type": "execute_result"
    }
   ],
   "source": [
    "accuracy_score(Y, Y_hat)"
   ]
  },
  {
   "cell_type": "code",
   "execution_count": 15,
   "metadata": {},
   "outputs": [
    {
     "data": {
      "image/png": "[encoded data removed]",
      "text/plain": [
       "<Figure size 432x288 with 1 Axes>"
      ]
     },
     "metadata": {
      "needs_background": "light"
     },
     "output_type": "display_data"
    }
   ],
   "source": [
    "plot_data(X, Y)\n",
    "plot_surface(cls, X[:, 0], X[:, 1])"
   ]
  },
  {
   "cell_type": "markdown",
   "metadata": {},
   "source": [
    "Зверніть увагу на границю прийняття рішення. Модель старається побудувати складну криву, що може свідчити про її перетренування. Порівняйте отримані результати з класом з sklearn. Спробуйте додати нові шари для нашого класу та порівняти результати тоді. Поекспериментуйте з гіперпараметрами для обох класів."
   ]
  },
  {
   "cell_type": "code",
   "execution_count": 16,
   "metadata": {},
   "outputs": [],
   "source": [
    "from sklearn.neural_network import MLPClassifier\n",
    "clf = MLPClassifier(hidden_layer_sizes = (20,), max_iter = 10000, activation = 'relu', solver = 'sgd', learning_rate_init = 0.01, learning_rate = 'constant')"
   ]
  },
  {
   "cell_type": "code",
   "execution_count": 17,
   "metadata": {},
   "outputs": [
    {
     "data": {
      "text/plain": [
       "MLPClassifier(activation='relu', alpha=0.0001, batch_size='auto', beta_1=0.9,\n",
       "              beta_2=0.999, early_stopping=False, epsilon=1e-08,\n",
       "              hidden_layer_sizes=(20,), learning_rate='constant',\n",
       "              learning_rate_init=0.01, max_iter=10000, momentum=0.9,\n",
       "              n_iter_no_change=10, nesterovs_momentum=True, power_t=0.5,\n",
       "              random_state=None, shuffle=True, solver='sgd', tol=0.0001,\n",
       "              validation_fraction=0.1, verbose=False, warm_start=False)"
      ]
     },
     "execution_count": 17,
     "metadata": {},
     "output_type": "execute_result"
    }
   ],
   "source": [
    "clf.fit(X, Y)"
   ]
  },
  {
   "cell_type": "code",
   "execution_count": 18,
   "metadata": {},
   "outputs": [
    {
     "data": {
      "image/png": "[encoded data removed]",
      "text/plain": [
       "<Figure size 432x288 with 1 Axes>"
      ]
     },
     "metadata": {
      "needs_background": "light"
     },
     "output_type": "display_data"
    }
   ],
   "source": [
    "plot_data(X, Y)\n",
    "plot_surface(clf, X[:, 0], X[:, 1])"
   ]
  },
  {
   "cell_type": "code",
   "execution_count": 19,
   "metadata": {},
   "outputs": [
    {
     "data": {
      "text/plain": [
       "0.8559322033898306"
      ]
     },
     "execution_count": 19,
     "metadata": {},
     "output_type": "execute_result"
    }
   ],
   "source": [
    "accuracy_score(Y, clf.predict(X))"
   ]
  },
  {
   "cell_type": "code",
   "execution_count": null,
   "metadata": {},
   "outputs": [],
   "source": []
  }
 ],
 "metadata": {
  "anaconda-cloud": {},
  "kernelspec": {
   "display_name": "Python 3",
   "language": "python",
   "name": "python3"
  },
  "language_info": {
   "codemirror_mode": {
    "name": "ipython",
    "version": 3
   },
   "file_extension": ".py",
   "mimetype": "text/x-python",
   "name": "python",
   "nbconvert_exporter": "python",
   "pygments_lexer": "ipython3",
   "version": "3.7.4"
  }
 },
 "nbformat": 4,
 "nbformat_minor": 1
}
