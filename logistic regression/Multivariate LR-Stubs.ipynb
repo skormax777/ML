{
 "cells": [
  {
   "cell_type": "code",
   "execution_count": 1,
   "metadata": {},
   "outputs": [],
   "source": [
    "import numpy as np\n",
    "import pandas as pd\n",
    "import matplotlib.pyplot as plt\n",
    "%matplotlib inline"
   ]
  },
  {
   "cell_type": "code",
   "execution_count": 2,
   "metadata": {},
   "outputs": [],
   "source": [
    "def load_datasets(filename, data_columns, target_column):\n",
    "    df = pd.read_csv(filename)\n",
    "    X, y = df[data_columns], df[target_column]\n",
    "    return X, y"
   ]
  },
  {
   "cell_type": "code",
   "execution_count": 3,
   "metadata": {},
   "outputs": [],
   "source": [
    "def plot_data(A, b, test = False):\n",
    "    positive_indices = np.where(b == 1)[0]\n",
    "    negative_indices = np.where(b == 0)[0]\n",
    "    \n",
    "    plt.scatter(A.iloc[positive_indices, 0], A.iloc[positive_indices, 1], marker='x', c= 'yellow' if test else 'green')\n",
    "    plt.scatter(A.iloc[negative_indices, 0], A.iloc[negative_indices, 1], marker='+', c= 'blue' if test else 'red')"
   ]
  },
  {
   "cell_type": "code",
   "execution_count": 4,
   "metadata": {},
   "outputs": [],
   "source": [
    "def decision_boundary(X, y, mean, std, theta, ax=None, threshold=0.5, contourf=False):\n",
    "    x_values = [np.min(X[:, 1] - 5), np.max(X[:, 2] + 5)]\n",
    "    y_values = - (theta[0] + np.dot(theta[1], x_values)) / theta[2]\n",
    "    plt.plot(x_values, y_values, label='Decision Boundary')\n",
    "    plt.xlabel('Marks in 1st Exam')\n",
    "    plt.ylabel('Marks in 2nd Exam')\n",
    "    plt.legend()\n",
    "    plt.show()"
   ]
  },
  {
   "cell_type": "code",
   "execution_count": 5,
   "metadata": {},
   "outputs": [],
   "source": [
    "def normalize(X):\n",
    "    mean = np.mean(X, axis=0)\n",
    "    std = np.std(X, axis=0, ddof=1)\n",
    "    X_norm = (X - mean) / std\n",
    "    return X_norm, mean, std"
   ]
  },
  {
   "cell_type": "code",
   "execution_count": 6,
   "metadata": {},
   "outputs": [],
   "source": [
    "def prepare_X(X):\n",
    "    m = X.shape[0]\n",
    "    ones = np.ones((m, 1))\n",
    "    X_new = np.column_stack((ones, X))\n",
    "    return X_new"
   ]
  },
  {
   "cell_type": "code",
   "execution_count": 7,
   "metadata": {},
   "outputs": [],
   "source": [
    "def sigmoid(z):\n",
    "    g = 1/(1+np.exp(-z))\n",
    "    return g"
   ]
  },
  {
   "cell_type": "code",
   "execution_count": 8,
   "metadata": {},
   "outputs": [],
   "source": [
    "def h(X, theta):\n",
    "    z = np.dot(X, theta)\n",
    "    return sigmoid(z)"
   ]
  },
  {
   "cell_type": "code",
   "execution_count": 9,
   "metadata": {},
   "outputs": [],
   "source": [
    "def cost_function(X, y, theta):\n",
    "    m = X.shape[0]\n",
    "    if m ==0:\n",
    "        return None\n",
    "    \n",
    "    J = (-y * np.log(h(X, theta)) - (1 - y) * np.log(1 - h(X, theta))).mean()\n",
    "    return J"
   ]
  },
  {
   "cell_type": "code",
   "execution_count": 10,
   "metadata": {},
   "outputs": [],
   "source": [
    "def derivative_theta(X, y, theta):\n",
    "    m = X.shape[0]\n",
    "    if m == 0:\n",
    "        return None\n",
    "    d_theta = None    \n",
    "    return d_theta"
   ]
  },
  {
   "cell_type": "code",
   "execution_count": 11,
   "metadata": {},
   "outputs": [],
   "source": [
    "def gradient_descent(X, y, theta, alpha, epsilon, num_iters, print_J = True):\n",
    "    m = X.shape[0]\n",
    "    J_history = []\n",
    "    \n",
    "    J = cost_function(X, y, theta)\n",
    "    \n",
    "    if print_J == True:\n",
    "        print(J)\n",
    "    J_history.append(J)\n",
    "    for i in range(num_iters):\n",
    "        \n",
    "        theta = theta - alpha*np.dot(X.T, (h(X, theta) - y))/m;\n",
    "        \n",
    "        J = cost_function(X, y, theta)\n",
    "        \n",
    "        J_history.append(J)\n",
    "        \n",
    "        if i % 1000 == 0 and print_J == True:\n",
    "            print(J)\n",
    "        \n",
    "        if abs(J-J_history[-2]) < epsilon:\n",
    "            break\n",
    "            \n",
    "    return theta, J_history"
   ]
  },
  {
   "cell_type": "code",
   "execution_count": 12,
   "metadata": {},
   "outputs": [],
   "source": [
    "def predict(X, mean, std, theta):\n",
    "    Xtest = prepare_X(X)\n",
    "    predictions = h(Xtest, theta)\n",
    "    return predictions"
   ]
  },
  {
   "cell_type": "code",
   "execution_count": 13,
   "metadata": {},
   "outputs": [
    {
     "name": "stdout",
     "output_type": "stream",
     "text": [
      "Training set: X=(100, 2), y=(100,)\n"
     ]
    }
   ],
   "source": [
    "# Dataset 'sats.csv'\n",
    "data_columns = [\"exam1\", \"exam2\"]\n",
    "target_column = \"submitted\"\n",
    "X, y = load_datasets('sats.csv', data_columns, target_column)\n",
    "print('Training set: X={}, y={}'.format(X.shape, y.shape))"
   ]
  },
  {
   "cell_type": "code",
   "execution_count": 14,
   "metadata": {},
   "outputs": [
    {
     "name": "stdout",
     "output_type": "stream",
     "text": [
      "Training set: X=(100, 2), y=(100,)\n"
     ]
    }
   ],
   "source": [
    "# Dataset 'tests.csv'\n",
    "data_columns = [\"test1\", \"test2\"]\n",
    "target_column = \"passed\"\n",
    "X_test, y_test = load_datasets('tests.csv', data_columns, target_column)\n",
    "print('Training set: X={}, y={}'.format(X.shape, y.shape))"
   ]
  },
  {
   "cell_type": "code",
   "execution_count": 15,
   "metadata": {},
   "outputs": [
    {
     "data": {
      "image/png": "[encoded data removed]",
      "text/plain": [
       "<Figure size 432x288 with 1 Axes>"
      ]
     },
     "metadata": {
      "needs_background": "light"
     },
     "output_type": "display_data"
    }
   ],
   "source": [
    "plot_data(X, y)"
   ]
  },
  {
   "cell_type": "code",
   "execution_count": 16,
   "metadata": {},
   "outputs": [],
   "source": [
    "X_new, mean, std = normalize(X)"
   ]
  },
  {
   "cell_type": "code",
   "execution_count": 17,
   "metadata": {},
   "outputs": [],
   "source": [
    "X_new = prepare_X(X_new)\n",
    "y_new = y.values.reshape((X.shape[0], 1))"
   ]
  },
  {
   "cell_type": "code",
   "execution_count": 18,
   "metadata": {},
   "outputs": [],
   "source": [
    "theta = np.array([0, 0, 0])"
   ]
  },
  {
   "cell_type": "code",
   "execution_count": 19,
   "metadata": {},
   "outputs": [
    {
     "data": {
      "text/plain": [
       "0.6931471805599453"
      ]
     },
     "execution_count": 19,
     "metadata": {},
     "output_type": "execute_result"
    }
   ],
   "source": [
    "cost_function(X_new, y_new, theta)"
   ]
  },
  {
   "cell_type": "code",
   "execution_count": 20,
   "metadata": {
    "scrolled": true
   },
   "outputs": [
    {
     "name": "stdout",
     "output_type": "stream",
     "text": [
      "[1.2677702  3.05550587 2.81891901] 10001\n"
     ]
    }
   ],
   "source": [
    "new_theta, Js = gradient_descent(X_new, y, theta, 0.01, 1e-7, 10000, False)\n",
    "print(new_theta, len(Js))"
   ]
  },
  {
   "cell_type": "code",
   "execution_count": 21,
   "metadata": {},
   "outputs": [
    {
     "data": {
      "text/plain": [
       "1.769610810302692"
      ]
     },
     "execution_count": 21,
     "metadata": {},
     "output_type": "execute_result"
    }
   ],
   "source": [
    "cost_function(X_new, y_new, new_theta)"
   ]
  },
  {
   "cell_type": "code",
   "execution_count": 22,
   "metadata": {},
   "outputs": [
    {
     "data": {
      "image/png": "[encoded data removed]",
      "text/plain": [
       "<Figure size 432x288 with 1 Axes>"
      ]
     },
     "metadata": {
      "needs_background": "light"
     },
     "output_type": "display_data"
    }
   ],
   "source": [
    "plot_data((X-mean)/std, y)\n",
    "X_plot = prepare_X((X-mean)/std)\n",
    "decision_boundary(X_plot, y, mean, std, new_theta, ax=None, threshold=0.5, contourf=False)"
   ]
  },
  {
   "cell_type": "code",
   "execution_count": 23,
   "metadata": {},
   "outputs": [
    {
     "name": "stdout",
     "output_type": "stream",
     "text": [
      "[1. 1.]\n"
     ]
    }
   ],
   "source": [
    "T = np.array([[40, 40], [60, 65]])\n",
    "print(predict(T, mean, std, new_theta))\n"
   ]
  },
  {
   "cell_type": "code",
   "execution_count": 24,
   "metadata": {},
   "outputs": [
    {
     "name": "stdout",
     "output_type": "stream",
     "text": [
      "[1.40281390e-01 4.65797951e-04 8.33369039e-02 9.69444027e-01\n",
      " 9.91456197e-01 3.03676456e-02 9.94234003e-01 4.39605742e-01\n",
      " 9.97817619e-01 6.84896152e-01 8.53933659e-01 6.51218803e-02\n",
      " 9.95682268e-01 9.98681400e-01 2.07056614e-01 9.48899229e-01\n",
      " 4.40446072e-01 2.08283821e-01 9.97776981e-01 5.54557757e-01\n",
      " 1.18355496e-01 9.93155620e-01 2.32205111e-02 9.04533854e-04\n",
      " 9.73744534e-01 7.86552173e-01 5.75802748e-01 8.05603528e-01\n",
      " 1.47656857e-01 4.16538237e-02 8.31611500e-01 9.51646513e-01\n",
      " 2.09619122e-01 4.05988279e-01 1.22208586e-01 7.00479962e-02\n",
      " 7.75196711e-01 9.63214381e-01 2.62062845e-01 9.07244737e-02\n",
      " 9.32825609e-01 2.01640669e-02 9.96635130e-01 5.02508522e-01\n",
      " 1.60040019e-02 1.95026053e-01 9.76428714e-01 9.99919190e-01\n",
      " 9.95230787e-01 9.99841138e-01 9.91146073e-01 9.96846498e-01\n",
      " 8.47453057e-01 1.09580790e-02 2.57233379e-02 9.73899843e-02\n",
      " 9.98762376e-01 6.29847137e-01 9.59511511e-01 9.83525210e-01\n",
      " 9.96867620e-01 1.63885775e-03 1.34320775e-02 1.06605673e-03\n",
      " 1.20101122e-01 8.31437988e-02 8.87232975e-01 2.90404638e-02\n",
      " 9.99443864e-01 6.56430739e-01 6.24508501e-04 9.43064690e-01\n",
      " 9.98964586e-01 8.16970817e-01 8.40406403e-01 9.99483591e-01\n",
      " 8.52881292e-01 5.83593298e-01 4.13185718e-02 5.76037500e-01\n",
      " 9.95785987e-01 9.39205330e-01 8.30125538e-01 2.55464641e-01\n",
      " 9.99346351e-01 9.90528444e-01 3.73225874e-01 9.98473596e-01\n",
      " 9.99637872e-01 1.61481338e-01 9.99385669e-01 9.99773348e-01\n",
      " 6.84321499e-03 9.95857355e-01 8.70251936e-01 7.96317199e-01\n",
      " 6.82157405e-01 9.99034977e-01 3.66794521e-01 9.98048850e-01]\n"
     ]
    }
   ],
   "source": [
    "print(h(X_new, new_theta));"
   ]
  },
  {
   "cell_type": "code",
   "execution_count": null,
   "metadata": {},
   "outputs": [],
   "source": []
  }
 ],
 "metadata": {
  "anaconda-cloud": {},
  "kernelspec": {
   "display_name": "Python 3",
   "language": "python",
   "name": "python3"
  },
  "language_info": {
   "codemirror_mode": {
    "name": "ipython",
    "version": 3
   },
   "file_extension": ".py",
   "mimetype": "text/x-python",
   "name": "python",
   "nbconvert_exporter": "python",
   "pygments_lexer": "ipython3",
   "version": "3.7.4"
  }
 },
 "nbformat": 4,
 "nbformat_minor": 1
}
